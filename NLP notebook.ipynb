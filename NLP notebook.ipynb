{
 "cells": [
  {
   "cell_type": "markdown",
   "id": "5afe99cd",
   "metadata": {},
   "source": [
    "# Importing Data"
   ]
  },
  {
   "cell_type": "code",
   "execution_count": 1,
   "id": "920f894f",
   "metadata": {},
   "outputs": [],
   "source": [
    "# %pip install contractions\n",
    "# %pip install wordninja\n",
    "# %pip install tensorflow\n",
    "# %pip install keras\n",
    "# %pip install seaborn\n",
    "# %pip install matplotlib\n",
    "# %pip install nltk\n",
    "# %pip install textblob"
   ]
  },
  {
   "cell_type": "code",
   "execution_count": 2,
   "id": "93b30c84",
   "metadata": {},
   "outputs": [
    {
     "name": "stderr",
     "output_type": "stream",
     "text": [
      "[nltk_data] Downloading package punkt to\n",
      "[nltk_data]     C:\\Users\\eksudee\\AppData\\Roaming\\nltk_data...\n",
      "[nltk_data]   Package punkt is already up-to-date!\n",
      "[nltk_data] Downloading package punkt_tab to\n",
      "[nltk_data]     C:\\Users\\eksudee\\AppData\\Roaming\\nltk_data...\n",
      "[nltk_data]   Package punkt_tab is already up-to-date!\n",
      "[nltk_data] Downloading package averaged_perceptron_tagger_eng to\n",
      "[nltk_data]     C:\\Users\\eksudee\\AppData\\Roaming\\nltk_data...\n",
      "[nltk_data]   Package averaged_perceptron_tagger_eng is already up-to-\n",
      "[nltk_data]       date!\n",
      "[nltk_data] Downloading package wordnet to\n",
      "[nltk_data]     C:\\Users\\eksudee\\AppData\\Roaming\\nltk_data...\n",
      "[nltk_data]   Package wordnet is already up-to-date!\n",
      "[nltk_data] Downloading package stopwords to\n",
      "[nltk_data]     C:\\Users\\eksudee\\AppData\\Roaming\\nltk_data...\n",
      "[nltk_data]   Package stopwords is already up-to-date!\n"
     ]
    }
   ],
   "source": [
    "# Imports and downloads (move all to the top)\n",
    "import seaborn as sns\n",
    "import pandas as pd\n",
    "import matplotlib.pyplot as plt\n",
    "import re\n",
    "\n",
    "# took longer to run word ninja on gpu\n",
    "# import tensorflow as tf\n",
    "# from tensorflow import keras\n",
    "\n",
    "import sys\n",
    "from nltk.corpus import stopwords\n",
    "from collections import Counter\n",
    "import wordninja\n",
    "from textblob import TextBlob\n",
    "from textblob import Word\n",
    "import contractions\n",
    "import nltk\n",
    "\n",
    "# Download NLTK resources\n",
    "nltk.download('punkt')\n",
    "nltk.download('punkt_tab') # for tokenization\n",
    "nltk.download('averaged_perceptron_tagger_eng') # for POS Tagging\n",
    "nltk.download('wordnet')\n",
    "nltk.download('stopwords') # for tokenization\n",
    "\n",
    "# Check GPU and Python version\n",
    "# print(\"Num GPUs Available: \", len(tf.config.experimental.list_physical_devices('GPU')))\n",
    "# tf.test.is_built_with_cuda()\n",
    "# print(tf.version.VERSION)\n",
    "# print(sys.version)\n",
    "\n",
    "# because i was running this in vs code\n",
    "import time\n",
    "start = time.time()"
   ]
  },
  {
   "cell_type": "code",
   "execution_count": 3,
   "id": "eca86405",
   "metadata": {},
   "outputs": [
    {
     "data": {
      "text/html": [
       "<div>\n",
       "<style scoped>\n",
       "    .dataframe tbody tr th:only-of-type {\n",
       "        vertical-align: middle;\n",
       "    }\n",
       "\n",
       "    .dataframe tbody tr th {\n",
       "        vertical-align: top;\n",
       "    }\n",
       "\n",
       "    .dataframe thead th {\n",
       "        text-align: right;\n",
       "    }\n",
       "</style>\n",
       "<table border=\"1\" class=\"dataframe\">\n",
       "  <thead>\n",
       "    <tr style=\"text-align: right;\">\n",
       "      <th></th>\n",
       "      <th>title</th>\n",
       "      <th>text</th>\n",
       "      <th>subject</th>\n",
       "      <th>date</th>\n",
       "      <th>label</th>\n",
       "    </tr>\n",
       "  </thead>\n",
       "  <tbody>\n",
       "    <tr>\n",
       "      <th>0</th>\n",
       "      <td>Donald Trump Sends Out Embarrassing New Year’...</td>\n",
       "      <td>Donald Trump just couldn t wish all Americans ...</td>\n",
       "      <td>News</td>\n",
       "      <td>December 31, 2017</td>\n",
       "      <td>non-credible</td>\n",
       "    </tr>\n",
       "    <tr>\n",
       "      <th>1</th>\n",
       "      <td>Drunk Bragging Trump Staffer Started Russian ...</td>\n",
       "      <td>House Intelligence Committee Chairman Devin Nu...</td>\n",
       "      <td>News</td>\n",
       "      <td>December 31, 2017</td>\n",
       "      <td>non-credible</td>\n",
       "    </tr>\n",
       "    <tr>\n",
       "      <th>2</th>\n",
       "      <td>Sheriff David Clarke Becomes An Internet Joke...</td>\n",
       "      <td>On Friday, it was revealed that former Milwauk...</td>\n",
       "      <td>News</td>\n",
       "      <td>December 30, 2017</td>\n",
       "      <td>non-credible</td>\n",
       "    </tr>\n",
       "    <tr>\n",
       "      <th>3</th>\n",
       "      <td>Trump Is So Obsessed He Even Has Obama’s Name...</td>\n",
       "      <td>On Christmas day, Donald Trump announced that ...</td>\n",
       "      <td>News</td>\n",
       "      <td>December 29, 2017</td>\n",
       "      <td>non-credible</td>\n",
       "    </tr>\n",
       "    <tr>\n",
       "      <th>4</th>\n",
       "      <td>Pope Francis Just Called Out Donald Trump Dur...</td>\n",
       "      <td>Pope Francis used his annual Christmas Day mes...</td>\n",
       "      <td>News</td>\n",
       "      <td>December 25, 2017</td>\n",
       "      <td>non-credible</td>\n",
       "    </tr>\n",
       "  </tbody>\n",
       "</table>\n",
       "</div>"
      ],
      "text/plain": [
       "                                               title  \\\n",
       "0   Donald Trump Sends Out Embarrassing New Year’...   \n",
       "1   Drunk Bragging Trump Staffer Started Russian ...   \n",
       "2   Sheriff David Clarke Becomes An Internet Joke...   \n",
       "3   Trump Is So Obsessed He Even Has Obama’s Name...   \n",
       "4   Pope Francis Just Called Out Donald Trump Dur...   \n",
       "\n",
       "                                                text subject  \\\n",
       "0  Donald Trump just couldn t wish all Americans ...    News   \n",
       "1  House Intelligence Committee Chairman Devin Nu...    News   \n",
       "2  On Friday, it was revealed that former Milwauk...    News   \n",
       "3  On Christmas day, Donald Trump announced that ...    News   \n",
       "4  Pope Francis used his annual Christmas Day mes...    News   \n",
       "\n",
       "                date         label  \n",
       "0  December 31, 2017  non-credible  \n",
       "1  December 31, 2017  non-credible  \n",
       "2  December 30, 2017  non-credible  \n",
       "3  December 29, 2017  non-credible  \n",
       "4  December 25, 2017  non-credible  "
      ]
     },
     "execution_count": 3,
     "metadata": {},
     "output_type": "execute_result"
    }
   ],
   "source": [
    "fake_df = pd.read_csv('Fake.csv')\n",
    "true_df = pd.read_csv('True.csv')\n",
    "\n",
    "# Add a 'label' column to each DataFrame\n",
    "fake_df['label'] = 'non-credible'\n",
    "true_df['label'] = 'credible'\n",
    "\n",
    "# Concatenate the DataFrames\n",
    "df = pd.concat([fake_df, true_df], ignore_index=True)\n",
    "\n",
    "# Display the first few rows of the combined DataFrame\n",
    "df.head()"
   ]
  },
  {
   "cell_type": "markdown",
   "id": "5a88cbc1",
   "metadata": {},
   "source": [
    "- Imports the pandas library for data manipulation.\n",
    "- Loads two CSV files, 'Fake.csv' and 'True.csv', into separate DataFrames: `fake_df` and `true_df`.\n",
    "- Adds a new column called `label` to each DataFrame to indicate whether the news is 'credible' or 'non-credible'.\n",
    "- Concatenates the two DataFrames into a single DataFrame `df`, combining both credible and non-credible news articles.\n",
    "- Displays the first few rows of the combined DataFrame to provide an overview of the merged dataset."
   ]
  },
  {
   "cell_type": "markdown",
   "id": "fcdc3176",
   "metadata": {},
   "source": [
    "# EDA and Preprocessing"
   ]
  },
  {
   "cell_type": "markdown",
   "id": "0a2f469e",
   "metadata": {},
   "source": [
    "## Basic EDA / Dataset Overview"
   ]
  },
  {
   "cell_type": "code",
   "execution_count": 4,
   "id": "0f9b6569",
   "metadata": {},
   "outputs": [
    {
     "name": "stdout",
     "output_type": "stream",
     "text": [
      "<class 'pandas.core.frame.DataFrame'>\n",
      "RangeIndex: 44898 entries, 0 to 44897\n",
      "Data columns (total 5 columns):\n",
      " #   Column   Non-Null Count  Dtype \n",
      "---  ------   --------------  ----- \n",
      " 0   title    44898 non-null  object\n",
      " 1   text     44898 non-null  object\n",
      " 2   subject  44898 non-null  object\n",
      " 3   date     44898 non-null  object\n",
      " 4   label    44898 non-null  object\n",
      "dtypes: object(5)\n",
      "memory usage: 1.7+ MB\n"
     ]
    }
   ],
   "source": [
    "df.info()"
   ]
  },
  {
   "cell_type": "markdown",
   "id": "76b5b617",
   "metadata": {},
   "source": [
    "The `df.info()` method provides a concise summary of the DataFrame"
   ]
  },
  {
   "cell_type": "code",
   "execution_count": 5,
   "id": "3741f8cc",
   "metadata": {},
   "outputs": [
    {
     "data": {
      "text/plain": [
       "(44898, 5)"
      ]
     },
     "execution_count": 5,
     "metadata": {},
     "output_type": "execute_result"
    }
   ],
   "source": [
    "df.shape"
   ]
  },
  {
   "cell_type": "markdown",
   "id": "e681c3fd",
   "metadata": {},
   "source": [
    "The `df.shape` attribute returns a tuple representing the dimensions of the DataFrame.(rows and collumns)\n",
    "\n",
    "The output `(44898, 5)` indicates that the DataFrame `df` contains 44,898 rows and 5 columns."
   ]
  },
  {
   "cell_type": "markdown",
   "id": "f874df9d",
   "metadata": {},
   "source": [
    "## Dropping non essential features"
   ]
  },
  {
   "cell_type": "code",
   "execution_count": 6,
   "id": "7130bb43",
   "metadata": {},
   "outputs": [
    {
     "name": "stdout",
     "output_type": "stream",
     "text": [
      "<class 'pandas.core.frame.DataFrame'>\n",
      "RangeIndex: 44898 entries, 0 to 44897\n",
      "Data columns (total 3 columns):\n",
      " #   Column  Non-Null Count  Dtype \n",
      "---  ------  --------------  ----- \n",
      " 0   title   44898 non-null  object\n",
      " 1   text    44898 non-null  object\n",
      " 2   label   44898 non-null  object\n",
      "dtypes: object(3)\n",
      "memory usage: 1.0+ MB\n"
     ]
    }
   ],
   "source": [
    "df = df.drop(columns=['subject', 'date'])\n",
    "df.info()"
   ]
  },
  {
   "cell_type": "markdown",
   "id": "73e745f0",
   "metadata": {},
   "source": [
    "We dropped the `subject` and `date` columns because they are not essential for the initial analysis or modeling.\n",
    "Removing these columns helps to focus on the main textual content (`title`, `text`) and the target label (`label`). \n",
    "Additionally it also simplifies the dataset and reduces noise."
   ]
  },
  {
   "cell_type": "markdown",
   "id": "f7015901",
   "metadata": {},
   "source": [
    "## Combine Title and Text in to one collum"
   ]
  },
  {
   "cell_type": "code",
   "execution_count": 7,
   "id": "7a4e2b3b",
   "metadata": {},
   "outputs": [
    {
     "data": {
      "text/html": [
       "<div>\n",
       "<style scoped>\n",
       "    .dataframe tbody tr th:only-of-type {\n",
       "        vertical-align: middle;\n",
       "    }\n",
       "\n",
       "    .dataframe tbody tr th {\n",
       "        vertical-align: top;\n",
       "    }\n",
       "\n",
       "    .dataframe thead th {\n",
       "        text-align: right;\n",
       "    }\n",
       "</style>\n",
       "<table border=\"1\" class=\"dataframe\">\n",
       "  <thead>\n",
       "    <tr style=\"text-align: right;\">\n",
       "      <th></th>\n",
       "      <th>content</th>\n",
       "      <th>label</th>\n",
       "    </tr>\n",
       "  </thead>\n",
       "  <tbody>\n",
       "    <tr>\n",
       "      <th>0</th>\n",
       "      <td>Donald Trump Sends Out Embarrassing New Year’...</td>\n",
       "      <td>non-credible</td>\n",
       "    </tr>\n",
       "    <tr>\n",
       "      <th>1</th>\n",
       "      <td>Drunk Bragging Trump Staffer Started Russian ...</td>\n",
       "      <td>non-credible</td>\n",
       "    </tr>\n",
       "    <tr>\n",
       "      <th>2</th>\n",
       "      <td>Sheriff David Clarke Becomes An Internet Joke...</td>\n",
       "      <td>non-credible</td>\n",
       "    </tr>\n",
       "    <tr>\n",
       "      <th>3</th>\n",
       "      <td>Trump Is So Obsessed He Even Has Obama’s Name...</td>\n",
       "      <td>non-credible</td>\n",
       "    </tr>\n",
       "    <tr>\n",
       "      <th>4</th>\n",
       "      <td>Pope Francis Just Called Out Donald Trump Dur...</td>\n",
       "      <td>non-credible</td>\n",
       "    </tr>\n",
       "  </tbody>\n",
       "</table>\n",
       "</div>"
      ],
      "text/plain": [
       "                                             content         label\n",
       "0   Donald Trump Sends Out Embarrassing New Year’...  non-credible\n",
       "1   Drunk Bragging Trump Staffer Started Russian ...  non-credible\n",
       "2   Sheriff David Clarke Becomes An Internet Joke...  non-credible\n",
       "3   Trump Is So Obsessed He Even Has Obama’s Name...  non-credible\n",
       "4   Pope Francis Just Called Out Donald Trump Dur...  non-credible"
      ]
     },
     "execution_count": 7,
     "metadata": {},
     "output_type": "execute_result"
    }
   ],
   "source": [
    "df['content'] = df['title'] + ' ' + df['text']\n",
    "df = df.drop(columns=['title', 'text'])\n",
    "df = df[['content', 'label']]\n",
    "df.head()"
   ]
  },
  {
   "cell_type": "markdown",
   "id": "a786e959",
   "metadata": {},
   "source": [
    "The code combines the \"title\" and \"text\" columns into a new \"content\" column, then removes the original \"title\" and \"text\" columns, leaving only \"content\" and \"label\" in the DataFrame. This simplifies the dataset by merging all relevant text into a single column for easier processing and analysis, and displays the first few rows of the updated DataFrame."
   ]
  },
  {
   "cell_type": "markdown",
   "id": "4974b40e",
   "metadata": {},
   "source": [
    "## Converting text to lowercase"
   ]
  },
  {
   "cell_type": "code",
   "execution_count": 8,
   "id": "972da970",
   "metadata": {},
   "outputs": [
    {
     "data": {
      "text/html": [
       "<div>\n",
       "<style scoped>\n",
       "    .dataframe tbody tr th:only-of-type {\n",
       "        vertical-align: middle;\n",
       "    }\n",
       "\n",
       "    .dataframe tbody tr th {\n",
       "        vertical-align: top;\n",
       "    }\n",
       "\n",
       "    .dataframe thead th {\n",
       "        text-align: right;\n",
       "    }\n",
       "</style>\n",
       "<table border=\"1\" class=\"dataframe\">\n",
       "  <thead>\n",
       "    <tr style=\"text-align: right;\">\n",
       "      <th></th>\n",
       "      <th>content</th>\n",
       "      <th>label</th>\n",
       "    </tr>\n",
       "  </thead>\n",
       "  <tbody>\n",
       "    <tr>\n",
       "      <th>0</th>\n",
       "      <td>donald trump sends out embarrassing new year’...</td>\n",
       "      <td>non-credible</td>\n",
       "    </tr>\n",
       "    <tr>\n",
       "      <th>1</th>\n",
       "      <td>drunk bragging trump staffer started russian ...</td>\n",
       "      <td>non-credible</td>\n",
       "    </tr>\n",
       "    <tr>\n",
       "      <th>2</th>\n",
       "      <td>sheriff david clarke becomes an internet joke...</td>\n",
       "      <td>non-credible</td>\n",
       "    </tr>\n",
       "    <tr>\n",
       "      <th>3</th>\n",
       "      <td>trump is so obsessed he even has obama’s name...</td>\n",
       "      <td>non-credible</td>\n",
       "    </tr>\n",
       "    <tr>\n",
       "      <th>4</th>\n",
       "      <td>pope francis just called out donald trump dur...</td>\n",
       "      <td>non-credible</td>\n",
       "    </tr>\n",
       "  </tbody>\n",
       "</table>\n",
       "</div>"
      ],
      "text/plain": [
       "                                             content         label\n",
       "0   donald trump sends out embarrassing new year’...  non-credible\n",
       "1   drunk bragging trump staffer started russian ...  non-credible\n",
       "2   sheriff david clarke becomes an internet joke...  non-credible\n",
       "3   trump is so obsessed he even has obama’s name...  non-credible\n",
       "4   pope francis just called out donald trump dur...  non-credible"
      ]
     },
     "execution_count": 8,
     "metadata": {},
     "output_type": "execute_result"
    }
   ],
   "source": [
    "df['content'] = df['content'].str.lower()\n",
    "df.head()"
   ]
  },
  {
   "cell_type": "markdown",
   "id": "380d67e6",
   "metadata": {},
   "source": [
    "code that maps the `'content'` collumn of the DateFrame to itself after converting it in to lower case using the `.str.lower()` method"
   ]
  },
  {
   "cell_type": "markdown",
   "id": "408016c3",
   "metadata": {},
   "source": [
    "## Missing Values"
   ]
  },
  {
   "cell_type": "code",
   "execution_count": 9,
   "id": "5e0078fb",
   "metadata": {},
   "outputs": [
    {
     "name": "stdout",
     "output_type": "stream",
     "text": [
      "content    0\n",
      "label      0\n",
      "dtype: int64\n"
     ]
    }
   ],
   "source": [
    "print(df.isnull().sum())"
   ]
  },
  {
   "cell_type": "markdown",
   "id": "35e69508",
   "metadata": {},
   "source": [
    "\n",
    "This code prints the number of missing (null) values in each column of the DataFrame `df\n",
    "\n",
    "The output shows us that the dataset has no missing values"
   ]
  },
  {
   "cell_type": "markdown",
   "id": "e45e06bb",
   "metadata": {},
   "source": [
    "## Finding and Handling Duplicates"
   ]
  },
  {
   "cell_type": "code",
   "execution_count": 10,
   "id": "6a9d3f9d",
   "metadata": {},
   "outputs": [
    {
     "name": "stdout",
     "output_type": "stream",
     "text": [
      "label\n",
      "non-credible    23481\n",
      "credible        21417\n",
      "Name: count, dtype: int64\n"
     ]
    }
   ],
   "source": [
    "print(df['label'].value_counts())"
   ]
  },
  {
   "cell_type": "markdown",
   "id": "80090c29",
   "metadata": {},
   "source": [
    "The code takes the current DataFrame and uses the value_counts() method on the 'label' column to count the number of articles in each class (credible and non-credible)."
   ]
  },
  {
   "cell_type": "code",
   "execution_count": 11,
   "id": "0741c76e",
   "metadata": {},
   "outputs": [
    {
     "data": {
      "text/html": [
       "<div>\n",
       "<style scoped>\n",
       "    .dataframe tbody tr th:only-of-type {\n",
       "        vertical-align: middle;\n",
       "    }\n",
       "\n",
       "    .dataframe tbody tr th {\n",
       "        vertical-align: top;\n",
       "    }\n",
       "\n",
       "    .dataframe thead th {\n",
       "        text-align: right;\n",
       "    }\n",
       "</style>\n",
       "<table border=\"1\" class=\"dataframe\">\n",
       "  <thead>\n",
       "    <tr style=\"text-align: right;\">\n",
       "      <th></th>\n",
       "      <th>content</th>\n",
       "      <th>label</th>\n",
       "    </tr>\n",
       "  </thead>\n",
       "  <tbody>\n",
       "    <tr>\n",
       "      <th>9942</th>\n",
       "      <td>hillary tweets message in defense of daca…oops...</td>\n",
       "      <td>non-credible</td>\n",
       "    </tr>\n",
       "    <tr>\n",
       "      <th>11446</th>\n",
       "      <td>former democrat warns young americans: “rioter...</td>\n",
       "      <td>non-credible</td>\n",
       "    </tr>\n",
       "    <tr>\n",
       "      <th>14925</th>\n",
       "      <td>[video] #blacklivesmatter terrorists storm dar...</td>\n",
       "      <td>non-credible</td>\n",
       "    </tr>\n",
       "    <tr>\n",
       "      <th>15892</th>\n",
       "      <td>house intel slaps subpoenas on mccain institut...</td>\n",
       "      <td>non-credible</td>\n",
       "    </tr>\n",
       "    <tr>\n",
       "      <th>15893</th>\n",
       "      <td>priceless! watch msnbc host’s shocked response...</td>\n",
       "      <td>non-credible</td>\n",
       "    </tr>\n",
       "    <tr>\n",
       "      <th>...</th>\n",
       "      <td>...</td>\n",
       "      <td>...</td>\n",
       "    </tr>\n",
       "    <tr>\n",
       "      <th>44709</th>\n",
       "      <td>france unveils labor reforms in first step to ...</td>\n",
       "      <td>credible</td>\n",
       "    </tr>\n",
       "    <tr>\n",
       "      <th>44744</th>\n",
       "      <td>guatemala top court sides with u.n. graft unit...</td>\n",
       "      <td>credible</td>\n",
       "    </tr>\n",
       "    <tr>\n",
       "      <th>44771</th>\n",
       "      <td>europeans, africans agree renewed push to tack...</td>\n",
       "      <td>credible</td>\n",
       "    </tr>\n",
       "    <tr>\n",
       "      <th>44834</th>\n",
       "      <td>thailand's ousted pm yingluck has fled abroad:...</td>\n",
       "      <td>credible</td>\n",
       "    </tr>\n",
       "    <tr>\n",
       "      <th>44889</th>\n",
       "      <td>u.s., north korea clash at u.n. forum over nuc...</td>\n",
       "      <td>credible</td>\n",
       "    </tr>\n",
       "  </tbody>\n",
       "</table>\n",
       "<p>5793 rows × 2 columns</p>\n",
       "</div>"
      ],
      "text/plain": [
       "                                                 content         label\n",
       "9942   hillary tweets message in defense of daca…oops...  non-credible\n",
       "11446  former democrat warns young americans: “rioter...  non-credible\n",
       "14925  [video] #blacklivesmatter terrorists storm dar...  non-credible\n",
       "15892  house intel slaps subpoenas on mccain institut...  non-credible\n",
       "15893  priceless! watch msnbc host’s shocked response...  non-credible\n",
       "...                                                  ...           ...\n",
       "44709  france unveils labor reforms in first step to ...      credible\n",
       "44744  guatemala top court sides with u.n. graft unit...      credible\n",
       "44771  europeans, africans agree renewed push to tack...      credible\n",
       "44834  thailand's ousted pm yingluck has fled abroad:...      credible\n",
       "44889  u.s., north korea clash at u.n. forum over nuc...      credible\n",
       "\n",
       "[5793 rows x 2 columns]"
      ]
     },
     "execution_count": 11,
     "metadata": {},
     "output_type": "execute_result"
    }
   ],
   "source": [
    "duplicate_content = df[df.duplicated(subset='content')]\n",
    "duplicate_content"
   ]
  },
  {
   "cell_type": "markdown",
   "id": "7ec2c51f",
   "metadata": {},
   "source": [
    "The code creates a new DataFrame called `duplicate_content` that stores rows with duplicate values in the \"content\" column. This is achieved using the `duplicated()` function, which identifies all but the first occurrence of each duplicate which is later displayed. From the output we know that there are 5793 rows of duplicate values (first occurances)"
   ]
  },
  {
   "cell_type": "code",
   "execution_count": 12,
   "id": "14e7774a",
   "metadata": {},
   "outputs": [
    {
     "name": "stdout",
     "output_type": "stream",
     "text": [
      "label\n",
      "non-credible    5573\n",
      "credible         220\n",
      "Name: count, dtype: int64\n"
     ]
    }
   ],
   "source": [
    "print(duplicate_content['label'].value_counts())"
   ]
  },
  {
   "cell_type": "markdown",
   "id": "37277b25",
   "metadata": {},
   "source": [
    "The code takes the duplicate_content DataFrame using \".value_count()\" and displays the counts the number of articles in each class, The output shows that the most amount of duplicates are within the rows classified as \"non-credible\" articles at 5573 articles while only 220 \"credible\" artiles are duplicated"
   ]
  },
  {
   "cell_type": "code",
   "execution_count": 13,
   "id": "06b4ca62",
   "metadata": {},
   "outputs": [
    {
     "name": "stdout",
     "output_type": "stream",
     "text": [
      "<class 'pandas.core.frame.DataFrame'>\n",
      "RangeIndex: 39105 entries, 0 to 39104\n",
      "Data columns (total 2 columns):\n",
      " #   Column   Non-Null Count  Dtype \n",
      "---  ------   --------------  ----- \n",
      " 0   content  39105 non-null  object\n",
      " 1   label    39105 non-null  object\n",
      "dtypes: object(2)\n",
      "memory usage: 611.1+ KB\n"
     ]
    }
   ],
   "source": [
    "df = df.drop_duplicates(subset='content', keep='first').reset_index(drop=True)\n",
    "df.info()"
   ]
  },
  {
   "cell_type": "markdown",
   "id": "6583541f",
   "metadata": {},
   "source": [
    "The `.drop_duplicates()` method is used to drop duplicate rows found in the `content` column, the `keep = first` parameter makes it so that the first occurance of the article in the dataset and drops the rest. `reset_index()` is used to reset the row index of the DataFrame after the drop opperation and the `drop=true` parameter makes sure that the old index is not added as a seperate collumn and is completely discarded"
   ]
  },
  {
   "cell_type": "code",
   "execution_count": 14,
   "id": "fea43bd5",
   "metadata": {},
   "outputs": [
    {
     "name": "stdout",
     "output_type": "stream",
     "text": [
      "label\n",
      "credible        21197\n",
      "non-credible    17908\n",
      "Name: count, dtype: int64\n"
     ]
    }
   ],
   "source": [
    "print(df['label'].value_counts())"
   ]
  },
  {
   "cell_type": "markdown",
   "id": "bf6e02ab",
   "metadata": {},
   "source": [
    "DataFrame distribution after dropping duplicate content"
   ]
  },
  {
   "cell_type": "code",
   "execution_count": 15,
   "id": "8e96f343",
   "metadata": {},
   "outputs": [
    {
     "data": {
      "text/html": [
       "<div>\n",
       "<style scoped>\n",
       "    .dataframe tbody tr th:only-of-type {\n",
       "        vertical-align: middle;\n",
       "    }\n",
       "\n",
       "    .dataframe tbody tr th {\n",
       "        vertical-align: top;\n",
       "    }\n",
       "\n",
       "    .dataframe thead th {\n",
       "        text-align: right;\n",
       "    }\n",
       "</style>\n",
       "<table border=\"1\" class=\"dataframe\">\n",
       "  <thead>\n",
       "    <tr style=\"text-align: right;\">\n",
       "      <th></th>\n",
       "      <th>content</th>\n",
       "      <th>label</th>\n",
       "    </tr>\n",
       "  </thead>\n",
       "  <tbody>\n",
       "    <tr>\n",
       "      <th>0</th>\n",
       "      <td>donald trump sends out embarrassing new year’...</td>\n",
       "      <td>non-credible</td>\n",
       "    </tr>\n",
       "    <tr>\n",
       "      <th>1</th>\n",
       "      <td>drunk bragging trump staffer started russian ...</td>\n",
       "      <td>non-credible</td>\n",
       "    </tr>\n",
       "    <tr>\n",
       "      <th>2</th>\n",
       "      <td>sheriff david clarke becomes an internet joke...</td>\n",
       "      <td>non-credible</td>\n",
       "    </tr>\n",
       "    <tr>\n",
       "      <th>3</th>\n",
       "      <td>trump is so obsessed he even has obama’s name...</td>\n",
       "      <td>non-credible</td>\n",
       "    </tr>\n",
       "    <tr>\n",
       "      <th>4</th>\n",
       "      <td>pope francis just called out donald trump dur...</td>\n",
       "      <td>non-credible</td>\n",
       "    </tr>\n",
       "    <tr>\n",
       "      <th>...</th>\n",
       "      <td>...</td>\n",
       "      <td>...</td>\n",
       "    </tr>\n",
       "    <tr>\n",
       "      <th>39100</th>\n",
       "      <td>'fully committed' nato backs new u.s. approach...</td>\n",
       "      <td>credible</td>\n",
       "    </tr>\n",
       "    <tr>\n",
       "      <th>39101</th>\n",
       "      <td>lexisnexis withdrew two products from chinese ...</td>\n",
       "      <td>credible</td>\n",
       "    </tr>\n",
       "    <tr>\n",
       "      <th>39102</th>\n",
       "      <td>minsk cultural hub becomes haven from authorit...</td>\n",
       "      <td>credible</td>\n",
       "    </tr>\n",
       "    <tr>\n",
       "      <th>39103</th>\n",
       "      <td>vatican upbeat on possibility of pope francis ...</td>\n",
       "      <td>credible</td>\n",
       "    </tr>\n",
       "    <tr>\n",
       "      <th>39104</th>\n",
       "      <td>indonesia to buy $1.14 billion worth of russia...</td>\n",
       "      <td>credible</td>\n",
       "    </tr>\n",
       "  </tbody>\n",
       "</table>\n",
       "<p>39105 rows × 2 columns</p>\n",
       "</div>"
      ],
      "text/plain": [
       "                                                 content         label\n",
       "0       donald trump sends out embarrassing new year’...  non-credible\n",
       "1       drunk bragging trump staffer started russian ...  non-credible\n",
       "2       sheriff david clarke becomes an internet joke...  non-credible\n",
       "3       trump is so obsessed he even has obama’s name...  non-credible\n",
       "4       pope francis just called out donald trump dur...  non-credible\n",
       "...                                                  ...           ...\n",
       "39100  'fully committed' nato backs new u.s. approach...      credible\n",
       "39101  lexisnexis withdrew two products from chinese ...      credible\n",
       "39102  minsk cultural hub becomes haven from authorit...      credible\n",
       "39103  vatican upbeat on possibility of pope francis ...      credible\n",
       "39104  indonesia to buy $1.14 billion worth of russia...      credible\n",
       "\n",
       "[39105 rows x 2 columns]"
      ]
     },
     "execution_count": 15,
     "metadata": {},
     "output_type": "execute_result"
    }
   ],
   "source": [
    "df"
   ]
  },
  {
   "cell_type": "markdown",
   "id": "6c95de72",
   "metadata": {},
   "source": [
    "## Handling Contractions"
   ]
  },
  {
   "cell_type": "code",
   "execution_count": 16,
   "id": "15f1556e",
   "metadata": {},
   "outputs": [],
   "source": [
    "df['content'] = df['content'].apply(contractions.fix)"
   ]
  },
  {
   "cell_type": "code",
   "execution_count": 17,
   "id": "dcb71e0e",
   "metadata": {},
   "outputs": [
    {
     "data": {
      "text/plain": [
       "\" the exact same texas lawmakers that voted against hurricane relief are now begging for help when hurricane sandy hit, affecting states all the way from north carolina to new england and particularly devastating new york and new jersey in 2012, texas lawmakers overwhelmingly voted against recovery assistance. in fact, john culberson, whose 7th congressional district includes parts of houston, was the only texas republican in congress in favor of the $50.7 billion relief effort.one of the loudest opponents of sandy aid was ted cruz, who was merely weeks away from becoming a texas senator. cruz s main concerns involved additional spending, which included funding for disaster preparedness and relief in other parts of the country as a means of gaining support for the hurricane sandy relief effort. hurricane sandy inflicted devastating damage on the east coast, and congress appropriately responded with hurricane relief,  cruz said in a statement at the time in an effort to justify his stance. unfortunately, cynical politicians in washington could not resist loading up this relief bill with billions in new spending utterly unrelated to sandy. now cruz, who campaigned for president of the united states, eventually losing the republican primary in indiana to donald trump in march of last year, has teamed up with fellow texas senator john cornyn to contact president trump, begging him to sign a major disaster declaration at the request of texas governor greg abbott, allowing the state to access key federal resources as soon as possible. given the potential catastrophic impact that the hurricane may have on texas communities,  cruz and cornyn wrote in their plea to trump,  we strongly support this request and urge you to provide any and all emergency protective measures available by a major disaster declaration. the irony of cruz s appeal to the president hasn t been lost on residents on the east coast. msnbc even quizzed cruz yesterday on the hypocritical nature of his request, but in typical fashion, cruz just avoided the question. there s time for political sniping later,  he said.  i think our focus needs to be on this crisis and this disaster. despite cruz abandoning them in their time of need five years ago, several new york and new jersey lawmakers have decided to take the high road and support cruz during his.despite my tx colleagues refusal to support aid in #southjersey time of need, i will support emergency disaster $$ for those impacted  frank lobiondo (@replobiondo) august 28, 2017disasters & emergencies are just that disasters & emergencies. must stand together as americans, not be hypocritical based on geography  frank lobiondo (@replobiondo) august 28, 2017ted cruz & texas cohorts voted vs ny/nj aid after sandy but i will vote 4 harvey aid. ny will not abandon texas. 1 bad turn does not deserve another  rep. pete king (@reppeteking) august 27, 2017as lifelong nyer w/ ny values i will vote for emergency harvey $ for ted cruz's constituents. above all, true americans must stand together.  rep. pete king (@reppeteking) august 27, 2017others were also quick to mention that maybe cruz should also pursue the funding for disaster preparation that he was so opposed to when sandy hit.texans should hope cruz helps do what he criticized the sandy aid package for doing: get $ for future texas storm prep. he will not, of course.  chris hooks (@cd_hooks) august 28, 2017featured image via michael reynolds   pool/getty images\""
      ]
     },
     "execution_count": 17,
     "metadata": {},
     "output_type": "execute_result"
    }
   ],
   "source": [
    "df['content'].iloc[476]"
   ]
  },
  {
   "cell_type": "markdown",
   "id": "d507a5ec",
   "metadata": {},
   "source": [
    "## Finding and Handling usernames, hashtags, and emails"
   ]
  },
  {
   "cell_type": "code",
   "execution_count": 18,
   "id": "4cd0b7a1",
   "metadata": {},
   "outputs": [
    {
     "name": "stdout",
     "output_type": "stream",
     "text": [
      "Total email addresses: 44\n",
      "Total Twitter usernames: 24782\n"
     ]
    }
   ],
   "source": [
    "def count_users_hash(dataframe):\n",
    "\n",
    "    email_count = dataframe['content'].str.count(r'[a-zA-Z0-9_.+-]+@[a-zA-Z0-9-]+\\.[a-zA-Z0-9-.]+').sum()\n",
    "    print(f\"Total email addresses: {email_count}\")\n",
    "    \n",
    "    username_count = dataframe['content'].str.count(r'@[A-Za-z0-9_]{1,15}\\b').sum()\n",
    "    print(f\"Total Twitter usernames: {username_count}\")\n",
    "\n",
    "\n",
    "count_users_hash(df)"
   ]
  },
  {
   "cell_type": "code",
   "execution_count": 19,
   "id": "7576fba3",
   "metadata": {},
   "outputs": [
    {
     "name": "stdout",
     "output_type": "stream",
     "text": [
      "Total email addresses: 0\n",
      "Total Twitter usernames: 0\n"
     ]
    }
   ],
   "source": [
    "\n",
    "def clean_text(text):\n",
    "    \n",
    "    text = re.sub(r'[a-zA-Z0-9_.+-]+@[a-zA-Z0-9-]+\\.[a-zA-Z0-9-.]+', '', text)\n",
    "\n",
    "    text = re.sub(r'@[A-Za-z0-9_]{1,15}\\b', '', text)\n",
    "    \n",
    "    return text\n",
    "\n",
    "df['content'] = df['content'].apply(clean_text)\n",
    "count_users_hash(df)"
   ]
  },
  {
   "cell_type": "markdown",
   "id": "80d27c08",
   "metadata": {},
   "source": [
    "## Finding and Handling HTML tags and URL's"
   ]
  },
  {
   "cell_type": "code",
   "execution_count": 20,
   "id": "09073663",
   "metadata": {},
   "outputs": [
    {
     "data": {
      "text/plain": [
       "' donald trump sends out embarrassing new year’s eve message; this is disturbing donald trump just couldn t wish all americans a happy new year and leave it at that. instead, he had to give a shout out to his enemies, haters and  the very dishonest fake news media.  the former reality show star had just one job to do and he couldn t do it. as our country rapidly grows stronger and smarter, i want to wish all of my friends, supporters, enemies, haters, and even the very dishonest fake news media, a happy and healthy new year,  president angry pants tweeted.  2018 will be a great year for america! as our country rapidly grows stronger and smarter, i want to wish all of my friends, supporters, enemies, haters, and even the very dishonest fake news media, a happy and healthy new year. 2018 will be a great year for america!  donald j. trump () december 31, 2017trump s tweet went down about as welll as you d expect.what kind of president sends a new year s greeting like this despicable, petty, infantile gibberish? only trump! his lack of decency won t even allow him to rise above the gutter long enough to wish the american citizens a happy new year!  bishop talbert swan () december 31, 2017no one likes you  calvin () december 31, 2017your impeachment would make 2018 a great year for america, but i ll also accept regaining control of congress.  miranda yaver () december 31, 2017do you hear yourself talk? when you have to include that many people that hate you you have to wonder? why do the they all hate me?  alan sandoval () december 31, 2017who uses the word haters in a new years wish??  marlene () december 31, 2017you can t just say happy new year?  koren pollitt () december 31, 2017here s trump s new year s eve tweet from 2016.happy new year to all, including to my many enemies and those who have fought me and lost so badly they just don t know what to do. love!  donald j. trump () december 31, 2016this is nothing new for trump. he s been doing this for years.trump has directed messages to his  enemies  and  haters  for new year s, easter, thanksgiving, and the anniversary of 9/11. pic.twitter.com/4fpae2kypa  daniel dale () december 31, 2017trump s holiday tweets are clearly not presidential.how long did he work at hallmark before becoming president?  steven goodine () december 31, 2017he s always been like this . . . the only difference is that in the last few years, his filter has been breaking down.  roy schulze () december 31, 2017who, apart from a teenager uses the term haters?  wendy () december 31, 2017he s a fucking 5 year old  who knows () december 31, 2017so, to all the people who voted for this a hole thinking he would change once he got into power, you were wrong! 70-year-old men don t change and now he s a year older.photo by andrew burton/getty images.'"
      ]
     },
     "execution_count": 20,
     "metadata": {},
     "output_type": "execute_result"
    }
   ],
   "source": [
    "df['content'].iloc[0]\n"
   ]
  },
  {
   "cell_type": "code",
   "execution_count": 21,
   "id": "7f1a6cca",
   "metadata": {},
   "outputs": [
    {
     "name": "stdout",
     "output_type": "stream",
     "text": [
      "Links matching (abc.xyz.com(others)) pattern: 5845\n",
      "Rows with HTML tags: 68\n",
      "Rows with URLs: 2589\n"
     ]
    },
    {
     "data": {
      "text/plain": [
       "(39105, 2)"
      ]
     },
     "execution_count": 21,
     "metadata": {},
     "output_type": "execute_result"
    }
   ],
   "source": [
    "def count_links(dataframe):\n",
    "\n",
    "    html_tag_count = df['content'].str.contains(r'<.*?>', regex=True).sum()\n",
    "    url_count = df['content'].str.contains(r'http\\S+|www\\.\\S+', regex=True).sum()\n",
    "    dot_com_count = df['content'].str.count(r'\\b\\w+\\.\\w+\\.(com|org|net|gov|edu|info|io|co|us|uk|in|au|ca|de|fr|ru|jp|cn|br|za)\\b').sum()\n",
    "    \n",
    "\n",
    "    print(f\"Links matching (abc.xyz.com(others)) pattern: {dot_com_count}\")\n",
    "    print(f\"Rows with HTML tags: {html_tag_count}\")\n",
    "    print(f\"Rows with URLs: {url_count}\")\n",
    "\n",
    "count_links(df)\n",
    "df.shape"
   ]
  },
  {
   "cell_type": "code",
   "execution_count": 22,
   "id": "3376e91d",
   "metadata": {},
   "outputs": [
    {
     "data": {
      "text/html": [
       "<div>\n",
       "<style scoped>\n",
       "    .dataframe tbody tr th:only-of-type {\n",
       "        vertical-align: middle;\n",
       "    }\n",
       "\n",
       "    .dataframe tbody tr th {\n",
       "        vertical-align: top;\n",
       "    }\n",
       "\n",
       "    .dataframe thead th {\n",
       "        text-align: right;\n",
       "    }\n",
       "</style>\n",
       "<table border=\"1\" class=\"dataframe\">\n",
       "  <thead>\n",
       "    <tr style=\"text-align: right;\">\n",
       "      <th></th>\n",
       "      <th>content</th>\n",
       "      <th>label</th>\n",
       "    </tr>\n",
       "  </thead>\n",
       "  <tbody>\n",
       "    <tr>\n",
       "      <th>0</th>\n",
       "      <td>donald trump sends out embarrassing new year’...</td>\n",
       "      <td>non-credible</td>\n",
       "    </tr>\n",
       "    <tr>\n",
       "      <th>1</th>\n",
       "      <td>drunk bragging trump staffer started russian ...</td>\n",
       "      <td>non-credible</td>\n",
       "    </tr>\n",
       "    <tr>\n",
       "      <th>2</th>\n",
       "      <td>sheriff david clarke becomes an internet joke...</td>\n",
       "      <td>non-credible</td>\n",
       "    </tr>\n",
       "    <tr>\n",
       "      <th>3</th>\n",
       "      <td>trump is so obsessed he even has obama’s name...</td>\n",
       "      <td>non-credible</td>\n",
       "    </tr>\n",
       "    <tr>\n",
       "      <th>4</th>\n",
       "      <td>pope francis just called out donald trump dur...</td>\n",
       "      <td>non-credible</td>\n",
       "    </tr>\n",
       "  </tbody>\n",
       "</table>\n",
       "</div>"
      ],
      "text/plain": [
       "                                             content         label\n",
       "0   donald trump sends out embarrassing new year’...  non-credible\n",
       "1   drunk bragging trump staffer started russian ...  non-credible\n",
       "2   sheriff david clarke becomes an internet joke...  non-credible\n",
       "3   trump is so obsessed he even has obama’s name...  non-credible\n",
       "4   pope francis just called out donald trump dur...  non-credible"
      ]
     },
     "execution_count": 22,
     "metadata": {},
     "output_type": "execute_result"
    }
   ],
   "source": [
    "\n",
    "def clean_text(text):\n",
    "\n",
    "    text = re.sub(r'\\b\\w+\\.\\w+\\.(com|org|net|gov|edu|info|io|co|us|uk|in|au|ca|de|fr|ru|jp|cn|br|za)\\b', '', text)\n",
    "    # Remove HTML tags\n",
    "    text = re.sub(r'<.*?>', '', text)\n",
    "    # Remove URLs\n",
    "    text = re.sub(r'http\\S+|www\\.\\S+', '', text)\n",
    "    return text\n",
    "\n",
    "df['content'] = df['content'].apply(clean_text)\n",
    "df.head()"
   ]
  },
  {
   "cell_type": "code",
   "execution_count": 23,
   "id": "366a18c9",
   "metadata": {},
   "outputs": [
    {
     "name": "stdout",
     "output_type": "stream",
     "text": [
      "Links matching (abc.xyz.com(others)) pattern: 0\n",
      "Rows with HTML tags: 0\n",
      "Rows with URLs: 0\n"
     ]
    },
    {
     "data": {
      "text/plain": [
       "(39105, 2)"
      ]
     },
     "execution_count": 23,
     "metadata": {},
     "output_type": "execute_result"
    }
   ],
   "source": [
    "count_links(df)\n",
    "df.shape"
   ]
  },
  {
   "cell_type": "code",
   "execution_count": 24,
   "id": "479f483b",
   "metadata": {},
   "outputs": [
    {
     "data": {
      "text/plain": [
       "' donald trump sends out embarrassing new year’s eve message; this is disturbing donald trump just couldn t wish all americans a happy new year and leave it at that. instead, he had to give a shout out to his enemies, haters and  the very dishonest fake news media.  the former reality show star had just one job to do and he couldn t do it. as our country rapidly grows stronger and smarter, i want to wish all of my friends, supporters, enemies, haters, and even the very dishonest fake news media, a happy and healthy new year,  president angry pants tweeted.  2018 will be a great year for america! as our country rapidly grows stronger and smarter, i want to wish all of my friends, supporters, enemies, haters, and even the very dishonest fake news media, a happy and healthy new year. 2018 will be a great year for america!  donald j. trump () december 31, 2017trump s tweet went down about as welll as you d expect.what kind of president sends a new year s greeting like this despicable, petty, infantile gibberish? only trump! his lack of decency won t even allow him to rise above the gutter long enough to wish the american citizens a happy new year!  bishop talbert swan () december 31, 2017no one likes you  calvin () december 31, 2017your impeachment would make 2018 a great year for america, but i ll also accept regaining control of congress.  miranda yaver () december 31, 2017do you hear yourself talk? when you have to include that many people that hate you you have to wonder? why do the they all hate me?  alan sandoval () december 31, 2017who uses the word haters in a new years wish??  marlene () december 31, 2017you can t just say happy new year?  koren pollitt () december 31, 2017here s trump s new year s eve tweet from 2016.happy new year to all, including to my many enemies and those who have fought me and lost so badly they just don t know what to do. love!  donald j. trump () december 31, 2016this is nothing new for trump. he s been doing this for years.trump has directed messages to his  enemies  and  haters  for new year s, easter, thanksgiving, and the anniversary of 9/11. /4fpae2kypa  daniel dale () december 31, 2017trump s holiday tweets are clearly not presidential.how long did he work at hallmark before becoming president?  steven goodine () december 31, 2017he s always been like this . . . the only difference is that in the last few years, his filter has been breaking down.  roy schulze () december 31, 2017who, apart from a teenager uses the term haters?  wendy () december 31, 2017he s a fucking 5 year old  who knows () december 31, 2017so, to all the people who voted for this a hole thinking he would change once he got into power, you were wrong! 70-year-old men don t change and now he s a year older.photo by andrew burton/getty images.'"
      ]
     },
     "execution_count": 24,
     "metadata": {},
     "output_type": "execute_result"
    }
   ],
   "source": [
    "df['content'].iloc[0]"
   ]
  },
  {
   "cell_type": "markdown",
   "id": "ef4045b3",
   "metadata": {},
   "source": [
    "## Handling Special characters and Digits (non-word and non-whitespaces)"
   ]
  },
  {
   "cell_type": "code",
   "execution_count": 25,
   "id": "eb38bc72",
   "metadata": {},
   "outputs": [
    {
     "data": {
      "text/html": [
       "<div>\n",
       "<style scoped>\n",
       "    .dataframe tbody tr th:only-of-type {\n",
       "        vertical-align: middle;\n",
       "    }\n",
       "\n",
       "    .dataframe tbody tr th {\n",
       "        vertical-align: top;\n",
       "    }\n",
       "\n",
       "    .dataframe thead th {\n",
       "        text-align: right;\n",
       "    }\n",
       "</style>\n",
       "<table border=\"1\" class=\"dataframe\">\n",
       "  <thead>\n",
       "    <tr style=\"text-align: right;\">\n",
       "      <th></th>\n",
       "      <th>content</th>\n",
       "      <th>label</th>\n",
       "    </tr>\n",
       "  </thead>\n",
       "  <tbody>\n",
       "    <tr>\n",
       "      <th>0</th>\n",
       "      <td>donald trump sends out embarrassing new years...</td>\n",
       "      <td>noncredible</td>\n",
       "    </tr>\n",
       "    <tr>\n",
       "      <th>1</th>\n",
       "      <td>drunk bragging trump staffer started russian ...</td>\n",
       "      <td>noncredible</td>\n",
       "    </tr>\n",
       "    <tr>\n",
       "      <th>2</th>\n",
       "      <td>sheriff david clarke becomes an internet joke...</td>\n",
       "      <td>noncredible</td>\n",
       "    </tr>\n",
       "    <tr>\n",
       "      <th>3</th>\n",
       "      <td>trump is so obsessed he even has obamas name ...</td>\n",
       "      <td>noncredible</td>\n",
       "    </tr>\n",
       "    <tr>\n",
       "      <th>4</th>\n",
       "      <td>pope francis just called out donald trump dur...</td>\n",
       "      <td>noncredible</td>\n",
       "    </tr>\n",
       "  </tbody>\n",
       "</table>\n",
       "</div>"
      ],
      "text/plain": [
       "                                             content        label\n",
       "0   donald trump sends out embarrassing new years...  noncredible\n",
       "1   drunk bragging trump staffer started russian ...  noncredible\n",
       "2   sheriff david clarke becomes an internet joke...  noncredible\n",
       "3   trump is so obsessed he even has obamas name ...  noncredible\n",
       "4   pope francis just called out donald trump dur...  noncredible"
      ]
     },
     "execution_count": 25,
     "metadata": {},
     "output_type": "execute_result"
    }
   ],
   "source": [
    "df = df.replace(to_replace=r'[^\\w\\s]', value='', regex=True)\n",
    "df = df.replace(to_replace=r'\\d', value='', regex=True)\n",
    "df.head()"
   ]
  },
  {
   "cell_type": "markdown",
   "id": "0ea47fed",
   "metadata": {},
   "source": [
    "here the `df.replace()` function is used to replace all characters that are not(`^`) words ((a-z, A-Z), digits (0-9), and underscore (_)) (`\\w`) or whitespaces (`\\s`), and are replaces with an empty string (`value=''`). This is done to reduce noise and improve consistency as special characters often do not add any meaningful information to text classification and analytics casts and removing them helps standardize the text making future tokenizations and processing easier\n",
    "\n",
    "the code also replaces all digits (`\\d`) with and empty string\n",
    "\n",
    "Note: '[^\\w\\s]' = NOT (`^`) words or whitespaces while '\\d' = IS digits"
   ]
  },
  {
   "cell_type": "markdown",
   "id": "b7ac76a4",
   "metadata": {},
   "source": []
  },
  {
   "cell_type": "code",
   "execution_count": 26,
   "id": "05e4c4f0",
   "metadata": {},
   "outputs": [
    {
     "name": "stdout",
     "output_type": "stream",
     "text": [
      "Rows with extra white spaces: 38450\n",
      "Example with extra white spaces:\n",
      " donald trump sends out embarrassing new years eve message this is disturbing donald trump just couldn t wish all americans a happy new year and leave it at that instead he had to give a shout out to his enemies haters and  the very dishonest fake news media  the former reality show star had just one job to do and he couldn t do it as our country rapidly grows stronger and smarter i want to wish all of my friends supporters enemies haters and even the very dishonest fake news media a happy and healthy new year  president angry pants tweeted   will be a great year for america as our country rapidly grows stronger and smarter i want to wish all of my friends supporters enemies haters and even the very dishonest fake news media a happy and healthy new year  will be a great year for america  donald j trump  december  trump s tweet went down about as welll as you d expectwhat kind of president sends a new year s greeting like this despicable petty infantile gibberish only trump his lack of decency won t even allow him to rise above the gutter long enough to wish the american citizens a happy new year  bishop talbert swan  december  no one likes you  calvin  december  your impeachment would make  a great year for america but i ll also accept regaining control of congress  miranda yaver  december  do you hear yourself talk when you have to include that many people that hate you you have to wonder why do the they all hate me  alan sandoval  december  who uses the word haters in a new years wish  marlene  december  you can t just say happy new year  koren pollitt  december  here s trump s new year s eve tweet from happy new year to all including to my many enemies and those who have fought me and lost so badly they just don t know what to do love  donald j trump  december  this is nothing new for trump he s been doing this for yearstrump has directed messages to his  enemies  and  haters  for new year s easter thanksgiving and the anniversary of  fpaekypa  daniel dale  december  trump s holiday tweets are clearly not presidentialhow long did he work at hallmark before becoming president  steven goodine  december  he s always been like this    the only difference is that in the last few years his filter has been breaking down  roy schulze  december  who apart from a teenager uses the term haters  wendy  december  he s a fucking  year old  who knows  december  so to all the people who voted for this a hole thinking he would change once he got into power you were wrong yearold men don t change and now he s a year olderphoto by andrew burtongetty images\n"
     ]
    }
   ],
   "source": [
    "# Count rows with extra (consecutive) white spaces in 'content'\n",
    "extra_ws_mask = df['content'].str.contains(r'\\s{2,}', regex=True)\n",
    "extra_ws_count = extra_ws_mask.sum()\n",
    "print(f\"Rows with extra white spaces: {extra_ws_count}\")\n",
    "\n",
    "# Print an example row with extra white spaces, if any exist\n",
    "if extra_ws_count > 0:\n",
    "    example_row = df[extra_ws_mask].iloc[0]\n",
    "    print(\"Example with extra white spaces:\")\n",
    "    print(example_row['content'])\n",
    "else:\n",
    "    print(\"No extra white spaces found in the dataset.\")\n"
   ]
  },
  {
   "cell_type": "code",
   "execution_count": 27,
   "id": "156d6360",
   "metadata": {},
   "outputs": [
    {
     "data": {
      "text/plain": [
       "' donald trump sends out embarrassing new years eve message this is disturbing donald trump just couldn t wish all americans a happy new year and leave it at that instead he had to give a shout out to his enemies haters and  the very dishonest fake news media  the former reality show star had just one job to do and he couldn t do it as our country rapidly grows stronger and smarter i want to wish all of my friends supporters enemies haters and even the very dishonest fake news media a happy and healthy new year  president angry pants tweeted   will be a great year for america as our country rapidly grows stronger and smarter i want to wish all of my friends supporters enemies haters and even the very dishonest fake news media a happy and healthy new year  will be a great year for america  donald j trump  december  trump s tweet went down about as welll as you d expectwhat kind of president sends a new year s greeting like this despicable petty infantile gibberish only trump his lack of decency won t even allow him to rise above the gutter long enough to wish the american citizens a happy new year  bishop talbert swan  december  no one likes you  calvin  december  your impeachment would make  a great year for america but i ll also accept regaining control of congress  miranda yaver  december  do you hear yourself talk when you have to include that many people that hate you you have to wonder why do the they all hate me  alan sandoval  december  who uses the word haters in a new years wish  marlene  december  you can t just say happy new year  koren pollitt  december  here s trump s new year s eve tweet from happy new year to all including to my many enemies and those who have fought me and lost so badly they just don t know what to do love  donald j trump  december  this is nothing new for trump he s been doing this for yearstrump has directed messages to his  enemies  and  haters  for new year s easter thanksgiving and the anniversary of  fpaekypa  daniel dale  december  trump s holiday tweets are clearly not presidentialhow long did he work at hallmark before becoming president  steven goodine  december  he s always been like this    the only difference is that in the last few years his filter has been breaking down  roy schulze  december  who apart from a teenager uses the term haters  wendy  december  he s a fucking  year old  who knows  december  so to all the people who voted for this a hole thinking he would change once he got into power you were wrong yearold men don t change and now he s a year olderphoto by andrew burtongetty images'"
      ]
     },
     "execution_count": 27,
     "metadata": {},
     "output_type": "execute_result"
    }
   ],
   "source": [
    "df['content'].iloc[0]"
   ]
  },
  {
   "cell_type": "markdown",
   "id": "fa87e655",
   "metadata": {},
   "source": [
    "## Handling extra whitespaces"
   ]
  },
  {
   "cell_type": "code",
   "execution_count": 28,
   "id": "e76d0cd0",
   "metadata": {},
   "outputs": [
    {
     "data": {
      "text/html": [
       "<div>\n",
       "<style scoped>\n",
       "    .dataframe tbody tr th:only-of-type {\n",
       "        vertical-align: middle;\n",
       "    }\n",
       "\n",
       "    .dataframe tbody tr th {\n",
       "        vertical-align: top;\n",
       "    }\n",
       "\n",
       "    .dataframe thead th {\n",
       "        text-align: right;\n",
       "    }\n",
       "</style>\n",
       "<table border=\"1\" class=\"dataframe\">\n",
       "  <thead>\n",
       "    <tr style=\"text-align: right;\">\n",
       "      <th></th>\n",
       "      <th>content</th>\n",
       "      <th>label</th>\n",
       "    </tr>\n",
       "  </thead>\n",
       "  <tbody>\n",
       "    <tr>\n",
       "      <th>0</th>\n",
       "      <td>donald trump sends out embarrassing new years ...</td>\n",
       "      <td>noncredible</td>\n",
       "    </tr>\n",
       "    <tr>\n",
       "      <th>1</th>\n",
       "      <td>drunk bragging trump staffer started russian c...</td>\n",
       "      <td>noncredible</td>\n",
       "    </tr>\n",
       "    <tr>\n",
       "      <th>2</th>\n",
       "      <td>sheriff david clarke becomes an internet joke ...</td>\n",
       "      <td>noncredible</td>\n",
       "    </tr>\n",
       "    <tr>\n",
       "      <th>3</th>\n",
       "      <td>trump is so obsessed he even has obamas name c...</td>\n",
       "      <td>noncredible</td>\n",
       "    </tr>\n",
       "    <tr>\n",
       "      <th>4</th>\n",
       "      <td>pope francis just called out donald trump duri...</td>\n",
       "      <td>noncredible</td>\n",
       "    </tr>\n",
       "  </tbody>\n",
       "</table>\n",
       "</div>"
      ],
      "text/plain": [
       "                                             content        label\n",
       "0  donald trump sends out embarrassing new years ...  noncredible\n",
       "1  drunk bragging trump staffer started russian c...  noncredible\n",
       "2  sheriff david clarke becomes an internet joke ...  noncredible\n",
       "3  trump is so obsessed he even has obamas name c...  noncredible\n",
       "4  pope francis just called out donald trump duri...  noncredible"
      ]
     },
     "execution_count": 28,
     "metadata": {},
     "output_type": "execute_result"
    }
   ],
   "source": [
    "# Remove extra (consecutive) white spaces from 'content'\n",
    "df['content'] = df['content'].str.replace(r'\\s+', ' ', regex=True).str.strip()\n",
    "df.head()"
   ]
  },
  {
   "cell_type": "code",
   "execution_count": 29,
   "id": "9914122e",
   "metadata": {},
   "outputs": [
    {
     "data": {
      "text/plain": [
       "'donald trump sends out embarrassing new years eve message this is disturbing donald trump just couldn t wish all americans a happy new year and leave it at that instead he had to give a shout out to his enemies haters and the very dishonest fake news media the former reality show star had just one job to do and he couldn t do it as our country rapidly grows stronger and smarter i want to wish all of my friends supporters enemies haters and even the very dishonest fake news media a happy and healthy new year president angry pants tweeted will be a great year for america as our country rapidly grows stronger and smarter i want to wish all of my friends supporters enemies haters and even the very dishonest fake news media a happy and healthy new year will be a great year for america donald j trump december trump s tweet went down about as welll as you d expectwhat kind of president sends a new year s greeting like this despicable petty infantile gibberish only trump his lack of decency won t even allow him to rise above the gutter long enough to wish the american citizens a happy new year bishop talbert swan december no one likes you calvin december your impeachment would make a great year for america but i ll also accept regaining control of congress miranda yaver december do you hear yourself talk when you have to include that many people that hate you you have to wonder why do the they all hate me alan sandoval december who uses the word haters in a new years wish marlene december you can t just say happy new year koren pollitt december here s trump s new year s eve tweet from happy new year to all including to my many enemies and those who have fought me and lost so badly they just don t know what to do love donald j trump december this is nothing new for trump he s been doing this for yearstrump has directed messages to his enemies and haters for new year s easter thanksgiving and the anniversary of fpaekypa daniel dale december trump s holiday tweets are clearly not presidentialhow long did he work at hallmark before becoming president steven goodine december he s always been like this the only difference is that in the last few years his filter has been breaking down roy schulze december who apart from a teenager uses the term haters wendy december he s a fucking year old who knows december so to all the people who voted for this a hole thinking he would change once he got into power you were wrong yearold men don t change and now he s a year olderphoto by andrew burtongetty images'"
      ]
     },
     "execution_count": 29,
     "metadata": {},
     "output_type": "execute_result"
    }
   ],
   "source": [
    "df['content'].iloc[0]"
   ]
  },
  {
   "cell_type": "markdown",
   "id": "6088e7cf",
   "metadata": {},
   "source": [
    "## Handling missing whitespaces (Experimental, remove if bad)"
   ]
  },
  {
   "cell_type": "markdown",
   "id": "a4359774",
   "metadata": {},
   "source": [
    "based on `https://stackoverflow.com/questions/8870261/how-to-split-text-without-spaces-into-list-of-words`"
   ]
  },
  {
   "cell_type": "code",
   "execution_count": 30,
   "id": "7b0d35f3",
   "metadata": {},
   "outputs": [],
   "source": [
    "\n",
    "# df['content'] = df['content'].apply(lambda x: ' '.join(wordninja.split(x)))"
   ]
  },
  {
   "cell_type": "code",
   "execution_count": 31,
   "id": "eb3268a5",
   "metadata": {},
   "outputs": [
    {
     "data": {
      "text/plain": [
       "'donald trump sends out embarrassing new years eve message this is disturbing donald trump just couldn t wish all americans a happy new year and leave it at that instead he had to give a shout out to his enemies haters and the very dishonest fake news media the former reality show star had just one job to do and he couldn t do it as our country rapidly grows stronger and smarter i want to wish all of my friends supporters enemies haters and even the very dishonest fake news media a happy and healthy new year president angry pants tweeted will be a great year for america as our country rapidly grows stronger and smarter i want to wish all of my friends supporters enemies haters and even the very dishonest fake news media a happy and healthy new year will be a great year for america donald j trump december trump s tweet went down about as welll as you d expectwhat kind of president sends a new year s greeting like this despicable petty infantile gibberish only trump his lack of decency won t even allow him to rise above the gutter long enough to wish the american citizens a happy new year bishop talbert swan december no one likes you calvin december your impeachment would make a great year for america but i ll also accept regaining control of congress miranda yaver december do you hear yourself talk when you have to include that many people that hate you you have to wonder why do the they all hate me alan sandoval december who uses the word haters in a new years wish marlene december you can t just say happy new year koren pollitt december here s trump s new year s eve tweet from happy new year to all including to my many enemies and those who have fought me and lost so badly they just don t know what to do love donald j trump december this is nothing new for trump he s been doing this for yearstrump has directed messages to his enemies and haters for new year s easter thanksgiving and the anniversary of fpaekypa daniel dale december trump s holiday tweets are clearly not presidentialhow long did he work at hallmark before becoming president steven goodine december he s always been like this the only difference is that in the last few years his filter has been breaking down roy schulze december who apart from a teenager uses the term haters wendy december he s a fucking year old who knows december so to all the people who voted for this a hole thinking he would change once he got into power you were wrong yearold men don t change and now he s a year olderphoto by andrew burtongetty images'"
      ]
     },
     "execution_count": 31,
     "metadata": {},
     "output_type": "execute_result"
    }
   ],
   "source": [
    "df['content'].iloc[0]"
   ]
  },
  {
   "cell_type": "code",
   "execution_count": 32,
   "id": "95deeb92",
   "metadata": {},
   "outputs": [
    {
     "data": {
      "text/html": [
       "<div>\n",
       "<style scoped>\n",
       "    .dataframe tbody tr th:only-of-type {\n",
       "        vertical-align: middle;\n",
       "    }\n",
       "\n",
       "    .dataframe tbody tr th {\n",
       "        vertical-align: top;\n",
       "    }\n",
       "\n",
       "    .dataframe thead th {\n",
       "        text-align: right;\n",
       "    }\n",
       "</style>\n",
       "<table border=\"1\" class=\"dataframe\">\n",
       "  <thead>\n",
       "    <tr style=\"text-align: right;\">\n",
       "      <th></th>\n",
       "      <th>content</th>\n",
       "      <th>label</th>\n",
       "    </tr>\n",
       "  </thead>\n",
       "  <tbody>\n",
       "    <tr>\n",
       "      <th>0</th>\n",
       "      <td>donald trump sends out embarrassing new years ...</td>\n",
       "      <td>noncredible</td>\n",
       "    </tr>\n",
       "    <tr>\n",
       "      <th>1</th>\n",
       "      <td>drunk bragging trump staffer started russian c...</td>\n",
       "      <td>noncredible</td>\n",
       "    </tr>\n",
       "    <tr>\n",
       "      <th>2</th>\n",
       "      <td>sheriff david clarke becomes an internet joke ...</td>\n",
       "      <td>noncredible</td>\n",
       "    </tr>\n",
       "    <tr>\n",
       "      <th>3</th>\n",
       "      <td>trump is so obsessed he even has obamas name c...</td>\n",
       "      <td>noncredible</td>\n",
       "    </tr>\n",
       "    <tr>\n",
       "      <th>4</th>\n",
       "      <td>pope francis just called out donald trump duri...</td>\n",
       "      <td>noncredible</td>\n",
       "    </tr>\n",
       "    <tr>\n",
       "      <th>...</th>\n",
       "      <td>...</td>\n",
       "      <td>...</td>\n",
       "    </tr>\n",
       "    <tr>\n",
       "      <th>39100</th>\n",
       "      <td>fully committed nato backs new yous approach o...</td>\n",
       "      <td>credible</td>\n",
       "    </tr>\n",
       "    <tr>\n",
       "      <th>39101</th>\n",
       "      <td>lexisnexis withdrew two products from chinese ...</td>\n",
       "      <td>credible</td>\n",
       "    </tr>\n",
       "    <tr>\n",
       "      <th>39102</th>\n",
       "      <td>minsk cultural hub becomes haven from authorit...</td>\n",
       "      <td>credible</td>\n",
       "    </tr>\n",
       "    <tr>\n",
       "      <th>39103</th>\n",
       "      <td>vatican upbeat on possibility of pope francis ...</td>\n",
       "      <td>credible</td>\n",
       "    </tr>\n",
       "    <tr>\n",
       "      <th>39104</th>\n",
       "      <td>indonesia to buy billion worth of russian jets...</td>\n",
       "      <td>credible</td>\n",
       "    </tr>\n",
       "  </tbody>\n",
       "</table>\n",
       "<p>39105 rows × 2 columns</p>\n",
       "</div>"
      ],
      "text/plain": [
       "                                                 content        label\n",
       "0      donald trump sends out embarrassing new years ...  noncredible\n",
       "1      drunk bragging trump staffer started russian c...  noncredible\n",
       "2      sheriff david clarke becomes an internet joke ...  noncredible\n",
       "3      trump is so obsessed he even has obamas name c...  noncredible\n",
       "4      pope francis just called out donald trump duri...  noncredible\n",
       "...                                                  ...          ...\n",
       "39100  fully committed nato backs new yous approach o...     credible\n",
       "39101  lexisnexis withdrew two products from chinese ...     credible\n",
       "39102  minsk cultural hub becomes haven from authorit...     credible\n",
       "39103  vatican upbeat on possibility of pope francis ...     credible\n",
       "39104  indonesia to buy billion worth of russian jets...     credible\n",
       "\n",
       "[39105 rows x 2 columns]"
      ]
     },
     "execution_count": 32,
     "metadata": {},
     "output_type": "execute_result"
    }
   ],
   "source": [
    "df"
   ]
  },
  {
   "cell_type": "markdown",
   "id": "7aab4f60",
   "metadata": {},
   "source": [
    "## Tokenization"
   ]
  },
  {
   "cell_type": "code",
   "execution_count": 33,
   "id": "6db21d15",
   "metadata": {},
   "outputs": [],
   "source": [
    "# Tokenize the 'content' column and store the result in a new column 'tokens'\n",
    "df['content'] = df['content'].apply(lambda x: TextBlob(x).words)"
   ]
  },
  {
   "cell_type": "code",
   "execution_count": 34,
   "id": "f8a8d7ca",
   "metadata": {},
   "outputs": [
    {
     "data": {
      "text/html": [
       "<div>\n",
       "<style scoped>\n",
       "    .dataframe tbody tr th:only-of-type {\n",
       "        vertical-align: middle;\n",
       "    }\n",
       "\n",
       "    .dataframe tbody tr th {\n",
       "        vertical-align: top;\n",
       "    }\n",
       "\n",
       "    .dataframe thead th {\n",
       "        text-align: right;\n",
       "    }\n",
       "</style>\n",
       "<table border=\"1\" class=\"dataframe\">\n",
       "  <thead>\n",
       "    <tr style=\"text-align: right;\">\n",
       "      <th></th>\n",
       "      <th>content</th>\n",
       "      <th>label</th>\n",
       "    </tr>\n",
       "  </thead>\n",
       "  <tbody>\n",
       "    <tr>\n",
       "      <th>0</th>\n",
       "      <td>[donald, trump, sends, out, embarrassing, new,...</td>\n",
       "      <td>noncredible</td>\n",
       "    </tr>\n",
       "    <tr>\n",
       "      <th>1</th>\n",
       "      <td>[drunk, bragging, trump, staffer, started, rus...</td>\n",
       "      <td>noncredible</td>\n",
       "    </tr>\n",
       "    <tr>\n",
       "      <th>2</th>\n",
       "      <td>[sheriff, david, clarke, becomes, an, internet...</td>\n",
       "      <td>noncredible</td>\n",
       "    </tr>\n",
       "    <tr>\n",
       "      <th>3</th>\n",
       "      <td>[trump, is, so, obsessed, he, even, has, obama...</td>\n",
       "      <td>noncredible</td>\n",
       "    </tr>\n",
       "    <tr>\n",
       "      <th>4</th>\n",
       "      <td>[pope, francis, just, called, out, donald, tru...</td>\n",
       "      <td>noncredible</td>\n",
       "    </tr>\n",
       "    <tr>\n",
       "      <th>...</th>\n",
       "      <td>...</td>\n",
       "      <td>...</td>\n",
       "    </tr>\n",
       "    <tr>\n",
       "      <th>39100</th>\n",
       "      <td>[fully, committed, nato, backs, new, yous, app...</td>\n",
       "      <td>credible</td>\n",
       "    </tr>\n",
       "    <tr>\n",
       "      <th>39101</th>\n",
       "      <td>[lexisnexis, withdrew, two, products, from, ch...</td>\n",
       "      <td>credible</td>\n",
       "    </tr>\n",
       "    <tr>\n",
       "      <th>39102</th>\n",
       "      <td>[minsk, cultural, hub, becomes, haven, from, a...</td>\n",
       "      <td>credible</td>\n",
       "    </tr>\n",
       "    <tr>\n",
       "      <th>39103</th>\n",
       "      <td>[vatican, upbeat, on, possibility, of, pope, f...</td>\n",
       "      <td>credible</td>\n",
       "    </tr>\n",
       "    <tr>\n",
       "      <th>39104</th>\n",
       "      <td>[indonesia, to, buy, billion, worth, of, russi...</td>\n",
       "      <td>credible</td>\n",
       "    </tr>\n",
       "  </tbody>\n",
       "</table>\n",
       "<p>39105 rows × 2 columns</p>\n",
       "</div>"
      ],
      "text/plain": [
       "                                                 content        label\n",
       "0      [donald, trump, sends, out, embarrassing, new,...  noncredible\n",
       "1      [drunk, bragging, trump, staffer, started, rus...  noncredible\n",
       "2      [sheriff, david, clarke, becomes, an, internet...  noncredible\n",
       "3      [trump, is, so, obsessed, he, even, has, obama...  noncredible\n",
       "4      [pope, francis, just, called, out, donald, tru...  noncredible\n",
       "...                                                  ...          ...\n",
       "39100  [fully, committed, nato, backs, new, yous, app...     credible\n",
       "39101  [lexisnexis, withdrew, two, products, from, ch...     credible\n",
       "39102  [minsk, cultural, hub, becomes, haven, from, a...     credible\n",
       "39103  [vatican, upbeat, on, possibility, of, pope, f...     credible\n",
       "39104  [indonesia, to, buy, billion, worth, of, russi...     credible\n",
       "\n",
       "[39105 rows x 2 columns]"
      ]
     },
     "execution_count": 34,
     "metadata": {},
     "output_type": "execute_result"
    }
   ],
   "source": [
    "df"
   ]
  },
  {
   "cell_type": "markdown",
   "id": "fb13d552",
   "metadata": {},
   "source": [
    "## Stop word removal"
   ]
  },
  {
   "cell_type": "code",
   "execution_count": null,
   "id": "3a192e19",
   "metadata": {
    "vscode": {
     "languageId": "r"
    }
   },
   "outputs": [
    {
     "data": {
      "image/png": "[encoded data removed]",
      "text/plain": [
       "<Figure size 1200x600 with 1 Axes>"
      ]
     },
     "metadata": {},
     "output_type": "display_data"
    }
   ],
   "source": [
    "plt.figure(figsize=(12,6))\n",
    "plt.bar(words, counts)\n",
    "plt.title('Top 20 Most Common Words')\n",
    "plt.xlabel('Words')\n",
    "plt.ylabel('Frequency')\n",
    "plt.xticks(rotation=45)\n",
    "plt.show()\n"
   ]
  },
  {
   "cell_type": "code",
   "execution_count": 37,
   "id": "264a2ff5",
   "metadata": {},
   "outputs": [
    {
     "data": {
      "text/html": [
       "<div>\n",
       "<style scoped>\n",
       "    .dataframe tbody tr th:only-of-type {\n",
       "        vertical-align: middle;\n",
       "    }\n",
       "\n",
       "    .dataframe tbody tr th {\n",
       "        vertical-align: top;\n",
       "    }\n",
       "\n",
       "    .dataframe thead th {\n",
       "        text-align: right;\n",
       "    }\n",
       "</style>\n",
       "<table border=\"1\" class=\"dataframe\">\n",
       "  <thead>\n",
       "    <tr style=\"text-align: right;\">\n",
       "      <th></th>\n",
       "      <th>content</th>\n",
       "      <th>label</th>\n",
       "    </tr>\n",
       "  </thead>\n",
       "  <tbody>\n",
       "    <tr>\n",
       "      <th>0</th>\n",
       "      <td>[donald, trump, sends, embarrassing, new, year...</td>\n",
       "      <td>noncredible</td>\n",
       "    </tr>\n",
       "    <tr>\n",
       "      <th>1</th>\n",
       "      <td>[drunk, bragging, trump, staffer, started, rus...</td>\n",
       "      <td>noncredible</td>\n",
       "    </tr>\n",
       "    <tr>\n",
       "      <th>2</th>\n",
       "      <td>[sheriff, david, clarke, becomes, internet, jo...</td>\n",
       "      <td>noncredible</td>\n",
       "    </tr>\n",
       "    <tr>\n",
       "      <th>3</th>\n",
       "      <td>[trump, obsessed, even, obamas, name, coded, w...</td>\n",
       "      <td>noncredible</td>\n",
       "    </tr>\n",
       "    <tr>\n",
       "      <th>4</th>\n",
       "      <td>[pope, francis, called, donald, trump, christm...</td>\n",
       "      <td>noncredible</td>\n",
       "    </tr>\n",
       "  </tbody>\n",
       "</table>\n",
       "</div>"
      ],
      "text/plain": [
       "                                             content        label\n",
       "0  [donald, trump, sends, embarrassing, new, year...  noncredible\n",
       "1  [drunk, bragging, trump, staffer, started, rus...  noncredible\n",
       "2  [sheriff, david, clarke, becomes, internet, jo...  noncredible\n",
       "3  [trump, obsessed, even, obamas, name, coded, w...  noncredible\n",
       "4  [pope, francis, called, donald, trump, christm...  noncredible"
      ]
     },
     "execution_count": 37,
     "metadata": {},
     "output_type": "execute_result"
    }
   ],
   "source": [
    "# Remove stopwords from the 'content' column\n",
    "stop_words = set(stopwords.words('english'))\n",
    "df['content'] = df['content'].apply(lambda tokens: [word for word in tokens if word not in stop_words])\n",
    "df.head()"
   ]
  },
  {
   "cell_type": "code",
   "execution_count": 40,
   "id": "9fdc6e4c",
   "metadata": {
    "vscode": {
     "languageId": "markdown"
    }
   },
   "outputs": [
    {
     "data": {
      "image/png": "[encoded data removed]",
      "text/plain": [
       "<Figure size 1200x600 with 1 Axes>"
      ]
     },
     "metadata": {},
     "output_type": "display_data"
    }
   ],
   "source": [
    "from collections import Counter\n",
    "\n",
    "import matplotlib.pyplot as plt\n",
    "\n",
    "# Flatten the list of tokens in 'content' column\n",
    "all_words = [word for tokens in df['content'] for word in tokens]\n",
    "\n",
    "# Count the most common words\n",
    "word_counts = Counter(all_words)\n",
    "most_common = word_counts.most_common(20)\n",
    "\n",
    "# Prepare data for plotting\n",
    "words, counts = zip(*most_common)\n",
    "\n",
    "# Plot\n",
    "plt.figure(figsize=(12,6))\n",
    "plt.bar(words, counts)\n",
    "plt.title('Top 20 Most Common Words')\n",
    "plt.xlabel('Words')\n",
    "plt.ylabel('Frequency')\n",
    "plt.xticks(rotation=45)\n",
    "plt.show()"
   ]
  },
  {
   "cell_type": "markdown",
   "id": "3473baa0",
   "metadata": {},
   "source": [
    "## Lemmatization"
   ]
  },
  {
   "cell_type": "code",
   "execution_count": 42,
   "id": "cbb5f9a4",
   "metadata": {},
   "outputs": [
    {
     "name": "stdout",
     "output_type": "stream",
     "text": [
      "Total number of words in the dataset: 9118399\n"
     ]
    }
   ],
   "source": [
    "# Calculate total number of words in the dataset\n",
    "total_words = sum(len(tokens) for tokens in df['content'])\n",
    "print(f\"Total number of words in the dataset: {total_words}\")\n"
   ]
  },
  {
   "cell_type": "code",
   "execution_count": null,
   "id": "8bc9bf91",
   "metadata": {},
   "outputs": [],
   "source": [
    "# Lemmatization using TextBlob\n",
    "df['content'] = df['content'].apply(lambda tokens: [Word(word).lemmatize() for word in tokens])\n",
    "\n",
    "# Display the first few rows to see the lemmatized tokens\n",
    "df.head()"
   ]
  },
  {
   "cell_type": "code",
   "execution_count": 45,
   "id": "0a01d8ab",
   "metadata": {},
   "outputs": [
    {
     "name": "stdout",
     "output_type": "stream",
     "text": [
      "Total number of words in the dataset: 9118399\n"
     ]
    }
   ],
   "source": [
    "# Calculate total number of words after lemmatization\n",
    "total_words_after = sum(len(tokens) for tokens in df['content'])\n",
    "print(f\"Total number of words after lemmatization: {total_words_after}\")\n",
    "\n",
    "# Show an example of lemmatized content\n",
    "print(\"\\nExample of lemmatized content:\")\n",
    "print(df['content'].iloc[0])"
   ]
  },
  {
   "cell_type": "code",
   "execution_count": 44,
   "id": "8a80794d",
   "metadata": {},
   "outputs": [
    {
     "name": "stdout",
     "output_type": "stream",
     "text": [
      "Total runtime (minutes): 7.344646390279134\n"
     ]
    }
   ],
   "source": [
    "end = time.time()\n",
    "print(\"Total runtime (minutes):\", (end - start) / 60)"
   ]
  }
 ],
 "metadata": {
  "kernelspec": {
   "display_name": "Python 3",
   "language": "python",
   "name": "python3"
  },
  "language_info": {
   "codemirror_mode": {
    "name": "ipython",
    "version": 3
   },
   "file_extension": ".py",
   "mimetype": "text/x-python",
   "name": "python",
   "nbconvert_exporter": "python",
   "pygments_lexer": "ipython3",
   "version": "3.13.3"
  }
 },
 "nbformat": 4,
 "nbformat_minor": 5
}
